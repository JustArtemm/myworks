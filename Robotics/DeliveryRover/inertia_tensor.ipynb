{
 "cells": [
  {
   "cell_type": "code",
   "execution_count": 3,
   "id": "12193982-38be-487c-98c0-b34052a4216c",
   "metadata": {},
   "outputs": [
    {
     "name": "stdin",
     "output_type": "stream",
     "text": [
      "Volume:  0.000964\n",
      "Mass:  7.43\n"
     ]
    },
    {
     "name": "stdout",
     "output_type": "stream",
     "text": [
      "[[11.42115861 -0.         -0.        ]\n",
      " [-0.         61.98176909 -0.        ]\n",
      " [-0.         -0.         52.43344834]]\n"
     ]
    }
   ],
   "source": [
    "import numpy as np\n",
    "toi = np.array([[0.148183, -0.000000, -0.000000], [-0.000000, 0.804178, -0.000000], [-0.000000, -0.000000, 0.680294]])\n",
    "\n",
    "volume = float(input('Volume: '))\n",
    "mass = float(input('Mass: '))\n",
    "\n",
    "print(mass/volume * toi * 10e-3)"
   ]
  },
  {
   "cell_type": "code",
   "execution_count": null,
   "id": "b9c06d96-fb85-4d97-9a17-d844970ede65",
   "metadata": {},
   "outputs": [],
   "source": []
  }
 ],
 "metadata": {
  "kernelspec": {
   "display_name": "Python 3",
   "language": "python",
   "name": "python3"
  },
  "language_info": {
   "codemirror_mode": {
    "name": "ipython",
    "version": 3
   },
   "file_extension": ".py",
   "mimetype": "text/x-python",
   "name": "python",
   "nbconvert_exporter": "python",
   "pygments_lexer": "ipython3",
   "version": "3.8.8"
  }
 },
 "nbformat": 4,
 "nbformat_minor": 5
}
