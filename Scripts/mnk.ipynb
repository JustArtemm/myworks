{
 "cells": [
  {
   "cell_type": "code",
   "execution_count": 1,
   "metadata": {},
   "outputs": [
    {
     "name": "stdout",
     "output_type": "stream",
     "text": [
      "Populating the interactive namespace from numpy and matplotlib\n",
      "Введите данные по оси х\n"
     ]
    },
    {
     "name": "stdin",
     "output_type": "stream",
     "text": [
      " 0\n"
     ]
    },
    {
     "name": "stdout",
     "output_type": "stream",
     "text": [
      "Введите данные по оси у\n"
     ]
    },
    {
     "name": "stdin",
     "output_type": "stream",
     "text": [
      " 0\n"
     ]
    },
    {
     "name": "stderr",
     "output_type": "stream",
     "text": [
      "C:\\Users\\axeno\\AppData\\Local\\Temp/ipykernel_18764/3391473380.py:26: RuntimeWarning: invalid value encountered in double_scalars\n",
      "  k = (xy_mean-x_mean*y_mean)/(xsq_mean -x_mean**2)\n",
      "C:\\Users\\axeno\\AppData\\Local\\Temp/ipykernel_18764/3391473380.py:35: RuntimeWarning: invalid value encountered in double_scalars\n",
      "  sigma_k = np.sqrt((1/(len(x)-2))*((np.mean(Dyy)/np.mean(Dxx))-k**2))\n"
     ]
    }
   ],
   "source": [
    "\"\"\"МНКv2.0\"\"\"\n",
    "\n",
    "import numpy as np\n",
    "import statistics as sts\n",
    "%pylab inline\n",
    "print(\"Введите данные по оси х\")\n",
    "x = (input().split())\n",
    "print(\"Введите данные по оси у\")\n",
    "y = (input().split())\n",
    "for i in range(len(x)):\n",
    "    x[i] = x[i].replace(',', '.')\n",
    "    y[i] = y[i].replace(',', '.')\n",
    "for i in range(len(x)):\n",
    "    x[i] = float(x[i])\n",
    "    y[i] = float(y[i])\n",
    "\n",
    "\"\"\"МНК\"\"\"  \n",
    "x_mean = np.mean(x)\n",
    "y_mean = np.mean(y)\n",
    "\n",
    "XY = []\n",
    "for i in range(len(y)):\n",
    "    XY.append(x[i]*y[i])\n",
    "xy_mean = np.mean(XY)\n",
    "xsq_mean = mean(np.array(x)**2)\n",
    "k = (xy_mean-x_mean*y_mean)/(xsq_mean -x_mean**2)\n",
    "\n",
    "b = y_mean - k*x_mean\n",
    "\n",
    "Dxx = []\n",
    "Dyy = []\n",
    "for i in range(len(x)):\n",
    "    Dxx.append((x[i] - x_mean)**2)\n",
    "    Dyy.append((y[i] - y_mean)**2)\n",
    "sigma_k = np.sqrt((1/(len(x)-2))*((np.mean(Dyy)/np.mean(Dxx))-k**2))\n",
    "sigma_b = sigma_k* np.sqrt(xsq_mean)\n",
    "\"\"\"МНК\"\"\" \n",
    "\n",
    "\n",
    "def f(z):\n",
    "    return k*z+b  #Задаем уравнение аппроксимирующей кривой\n"
   ]
  },
  {
   "cell_type": "code",
   "execution_count": 2,
   "metadata": {},
   "outputs": [
    {
     "name": "stdout",
     "output_type": "stream",
     "text": [
      "введите погрешность по оси Y\n"
     ]
    },
    {
     "name": "stdin",
     "output_type": "stream",
     "text": [
      " 0\n"
     ]
    },
    {
     "name": "stdout",
     "output_type": "stream",
     "text": [
      "введите погрешность по оси X\n"
     ]
    },
    {
     "name": "stdin",
     "output_type": "stream",
     "text": [
      " 0\n"
     ]
    },
    {
     "name": "stdout",
     "output_type": "stream",
     "text": [
      "k =  nan\n",
      "b =  nan\n",
      "sigma_k =  nan\n",
      "sigma_b =  nan\n"
     ]
    },
    {
     "data": {
      "image/png": "[encoded data removed]",
      "text/plain": [
       "<Figure size 432x288 with 1 Axes>"
      ]
     },
     "metadata": {
      "needs_background": "light"
     },
     "output_type": "display_data"
    }
   ],
   "source": [
    "X = linspace(min(x)-min(x)/10, max(x)+max(x)/10)\n",
    "K = \"{:5.2e}\".format(k)\n",
    "print(\"введите погрешность по оси Y\")\n",
    "yerr = input()\n",
    "yerr = float(yerr.replace(',', '.'))\n",
    "print(\"введите погрешность по оси X\")\n",
    "xerr = input()\n",
    "xerr = float(xerr.replace(',', '.'))\n",
    "SIGMA_K = \"{:5.2e}\".format(sigma_k)\n",
    "B = \"{:5.2e}\".format(b)\n",
    "SIGMA_B = \"{:5.2e}\".format(sigma_b)\n",
    "plt.plot(X, f(X),color = 'grey', label = 'y=%s(\\u00B1%s)x+%s(\\u00B1 %s)'%(K,SIGMA_K,B,SIGMA_B)) # построить аппроксимирующую прямую\n",
    "plt.errorbar(x, y,xerr=xerr, yerr=yerr, fmt='r+', ecolor='red',linewidth = 0.5) # показать погрешности на графике\n",
    "plt.plot(x,y,'r+')\n",
    "#plt.legend(loc='upper left') # показываем уравнение прямой на графике\n",
    "plt.grid(which='major',\n",
    "        color = 'k', \n",
    "        linewidth = 0.5)         #cетка графика(главная)\n",
    "plt.minorticks_on()\n",
    "\n",
    "plt.grid(which='minor', \n",
    "        color = 'k', \n",
    "        linewidth = 0.25)         #cетка графика(побочная)\n",
    "print('k = ', k)\n",
    "print('b = ', b)\n",
    "print('sigma_k = ', sigma_k)\n",
    "print('sigma_b = ', sigma_b)\n"
   ]
  },
  {
   "cell_type": "code",
   "execution_count": 3,
   "metadata": {},
   "outputs": [
    {
     "data": {
      "text/plain": [
       "'property of Artem Koshlakov ♡∮аки♡'"
      ]
     },
     "execution_count": 3,
     "metadata": {},
     "output_type": "execute_result"
    }
   ],
   "source": [
    "\"\"\"property of Artem Koshlakov ♡∮аки♡\"\"\""
   ]
  }
 ],
 "metadata": {
  "kernelspec": {
   "display_name": "Python 3 (ipykernel)",
   "language": "python",
   "name": "python3"
  },
  "language_info": {
   "codemirror_mode": {
    "name": "ipython",
    "version": 3
   },
   "file_extension": ".py",
   "mimetype": "text/x-python",
   "name": "python",
   "nbconvert_exporter": "python",
   "pygments_lexer": "ipython3",
   "version": "3.9.7"
  }
 },
 "nbformat": 4,
 "nbformat_minor": 4
}
