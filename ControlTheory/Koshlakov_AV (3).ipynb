{
 "cells": [
  {
   "attachments": {
    "image.png": {
     "image/png": "[encoded data removed]"
    }
   },
   "cell_type": "markdown",
   "id": "f504fca8-1290-4cc8-be88-d0e362b70fe2",
   "metadata": {
    "tags": []
   },
   "source": [
    "# Задача: \n",
    "## Рассмотрим ракету, смоделированную как частица постоянной массы $m$, движущаяся в пустом пространстве с невесомостью. Пусть $u$ - поток масс Пусть $u$ — массовый расход, который считается известной функцией времени, а $c$ — постоянная скорость тяги. Оценка движения дается при помощи выражений:\n",
    "\\begin{gather}\n",
    "\\dot x_1(t) = x_3(t) \\\\\n",
    "\\dot x_2(t) = x_4(t) \\\\\n",
    "\\dot x_3(t) = \\frac{c}{m} u(t)cos v(t) \\\\\n",
    "\\dot x_4(t) = \\frac{c}{m} u(t)sin v(t)\n",
    "\\end{gather}\n",
    "![image.png](attachment:image.png)\n",
    "\n",
    "## Задание:\n",
    "* Пусть ракета в приведенном выше примере представляет собой боеголовку, цель которой находится в состоянии покоя. Естественная цель тогда состоит в том, чтобы минимизировать время перехода $t_f$ из состояния $(0,0,x_{3i},x_{4i})$ в состояние $(x_{1f},x_{2f},free,free)$. Решить задачу в предположении, что $u$ постоянна.\n",
    "* Теперь для большей реалистичности предположим, что движение происходит под действием постоянной силы тяжести G. Единственное отличие от приведенной выше системы состоит в том, что уравнение для четвертого состояния заменено на:\n",
    "\\begin{gather}\n",
    "\\dot x_4(t) = \\frac{c}{m} u(t)sin v(t) - g \\\\\n",
    "\\end{gather}\n",
    "\n",
    "Показать, что билинейный тангенциальный закон все еще оптимален для функционала:\n",
    "\\begin{gather}\n",
    "minimize \\int\\limits_0^{t_{f}} dt + min\\  \\phi(x(t_f))\n",
    "\\end{gather}"
   ]
  },
  {
   "cell_type": "markdown",
   "id": "a5999819-89fa-47fb-82bf-c643578759f2",
   "metadata": {},
   "source": [
    "## Теория\n",
    "Пусть у нас есть задача оптимизации непрерывного времени следующего вида:\n",
    "\\begin{gather}\n",
    "max\\ \\int\\limits_0^{T}F(x(t),u(t),t)dt\\\\\n",
    "\\end{gather}\n",
    "Тогда гамильтониан будет строиться по принципу:\n",
    "\\begin{gather}\n",
    "H(x,u,P,t) = p_0F(x,u,t) + \\sum_{i=1}^{N}p_iQ_i(x,u,t)\n",
    "\\end{gather}"
   ]
  },
  {
   "cell_type": "markdown",
   "id": "c1ad3cba-362e-4765-bcb4-61f6c580654f",
   "metadata": {
    "tags": []
   },
   "source": [
    "## Решение пункта 1:\n",
    "задача состоит в том, чтобы минимизировать $\\int\\limits_0^{t_{f}} dt$ при условии\n",
    "\\begin{gather}\n",
    "\\dot x_1(t) = x_3(t) \\\\\n",
    "\\dot x_2(t) = x_4(t) \\\\\n",
    "\\dot x_3(t) = \\frac{c}{m} u(t)cos v(t) \\\\\n",
    "\\dot x_4(t) = \\frac{c}{m} u(t)sin v(t)\n",
    "\\end{gather}\n",
    "и\n",
    "\\begin{gather}\n",
    "x_1(0) = 0 \\\\\n",
    "x_1(t_f) = x_{1f} \\\\\n",
    "x_2(0) = 0 \\\\\n",
    "x_2(t_f) = x_{2f} \\\\\n",
    "x_3(0) = x_{3i} \\\\\n",
    "x_4(0) = x_{4i} \\\\\n",
    "\\end{gather}"
   ]
  },
  {
   "cell_type": "markdown",
   "id": "ca999015-f03b-452a-9ba7-1dd3bf085c7d",
   "metadata": {
    "jp-MarkdownHeadingCollapsed": true,
    "tags": []
   },
   "source": [
    " Гамильтониан нашей системы будет:\n",
    "\\begin{gather}\n",
    "H(t,x,v,p) = 1 + p_1 x_3 +p_2 x_4 + p_3 \\frac{c}{m} u \\cos{v} + p_4 \\frac{c}{m} u \\sin{v}\n",
    "\\end{gather}\n",
    "\n",
    " Посчитаем частную производную $H$ по $u$:\n",
    "\\begin{gather}\n",
    "H_u = p_3 \\frac{c}{m} \\cos{v} + p_4 \\frac{c}{m} \\sin{v} = 0 \\\\\n",
    "p_3 \\cos{v} + p_4 \\sin{v} = 0 \\\\\n",
    "\\sqrt{p_3^2+p_4^2} \\left( \\frac{p_3}{\\sqrt{p_3^2+p_4^2}} \\cos{v} + \\frac{p_4}{\\sqrt{p_3^2+p_4^2}} \\sin{v} \\right) = 0 => \\\\\n",
    "=> \\sqrt{p_3^2+p_4^2} \\sin{(\\alpha+v)}, \\quad  \\alpha : \n",
    " \\begin{cases}\n",
    "   \\cos{\\alpha} = \\frac{p_4}{\\sqrt{p_3^2+p_4^2}}\\\\\n",
    "   \\sin{\\alpha} = \\frac{p_3}{\\sqrt{p_3^2+p_4^2}}\n",
    " \\end{cases}\n",
    " => \\\\\n",
    "\\end{gather}\n",
    "Оптимальное управление будет:\n",
    "\\begin{gather}\n",
    " v^{* }(t) = -\\alpha(p(t)) - \\frac{\\pi}{2} => \\\\\n",
    " => \\tan{v^{* }} = \\frac{p_4(t)}{p_3(t)}\n",
    "\\end{gather}\n",
    "Сопряженные и им соответствующие уравнения:\n",
    "\\begin{gather}\n",
    "\\dot p_i(t) = -\\frac{\\partial H}{\\partial x_i} = \n",
    "\\left(\n",
    "\\begin{array}{}\n",
    "0 \\\\\n",
    "0 \\\\\n",
    "-p_1(t) \\\\\n",
    "-p_2(t) \n",
    "\\end{array}\n",
    "\\right)\n",
    "=> \\\\\n",
    "\\begin{cases}\n",
    "p_1(t) = c_1 \\\\\n",
    "p_2(t) = c_2 \\\\\n",
    "p_3(t) = -c_1 t + c_3 \\\\\n",
    "p_4(t) = -c_2 t + c_4 \\\\\n",
    "\\end{cases}\n",
    "\\end{gather}\n",
    "Для нашей задачи:\n",
    "\\begin{gather}\n",
    "p_3(t) = -c_1(t-t_f)\\\\\n",
    "p_4(t) = -c_2(t-t_f)\\\\\n",
    "=>\\\\\n",
    "\\tan{v^{* }} = \\frac{p_4}{p_3} = \\frac{c_2}{c_1} = const\n",
    "\\end{gather}\n",
    "Т.к. $v^{* }$ и $u$ - постоянны, то система уравнений принимает вид:\n",
    "\\begin{gather}\n",
    "\\dot x_3(t) = \\frac{cu}{m} \\cos{v}, \\quad x_3(0) = x_{3i} => \\\\\n",
    "x_3(t) = \\frac{cu}{m}\\cos{v}* t + x_{3i} \\\\\n",
    "\\dot x_4(t) = \\frac{cu}{m} \\sin{v}, \\quad x_4(0) = x_{4i} => \\\\\n",
    "x_4(t) = \\frac{cu}{m}\\sin{v}* t + x_{4i} \\\\\n",
    "\\\\\n",
    "\\dot x_1(t) = x_3(t), \\quad x_1(0) = 0 => \\\\\n",
    "x_1(t) = \\frac{cu}{m}\\cos{v}* \\frac{t^2}{2} + x_{3i} * t \\\\\n",
    "\\dot x_2(t) = x_4(t), \\quad x_2(0) = 0 => \\\\\n",
    "x_2(t) = \\frac{cu}{m}\\sin{v}* \\frac{t^2}{2} + x_{4i} * t \\\\\n",
    "\\end{gather}\n",
    "В итоге получили систему, которую можем решить относительно $t_f$, зная, что $x_1(t_f) = x_{1f}$ и $x_2(t_f) = x_{2f}$ :\n",
    "\\begin{cases}\n",
    "x_1(t) = \\frac{cu}{m}\\cos{v}* \\frac{t^2}{2} + x_{3i} * t \\\\\n",
    "x_2(t) = \\frac{cu}{m}\\sin{v}* \\frac{t^2}{2} + x_{4i} * t \\\\\n",
    "x_3(t) = \\frac{cu}{m}\\cos{v}* t + x_{3i} \\\\\n",
    "x_4(t) = \\frac{cu}{m}\\sin{v}* t + x_{4i} \\\\\n",
    "\\end{cases}\n"
   ]
  },
  {
   "cell_type": "markdown",
   "id": "7a1f0e2b-0c29-4bbb-8470-4799160b0441",
   "metadata": {},
   "source": [
    "## Решение пункта 2:\n",
    "Задача отличается от п.1 лишь тем, что теперь мы учитываем гравитацию, т.е: задача состоит в том, чтобы минимизировать $\\int\\limits_0^{t_{f}} dt$ при условии\n",
    "\\begin{gather}\n",
    "\\dot x_1(t) = x_3(t) \\\\\n",
    "\\dot x_2(t) = x_4(t) \\\\\n",
    "\\dot x_3(t) = \\frac{c}{m} u(t)cos v(t) \\\\\n",
    "\\dot x_4(t) = \\frac{c}{m} u(t)sin v(t) -g\\\\\n",
    "\\end{gather}\n",
    "и\n",
    "\\begin{gather}\n",
    "x_1(0) = 0 \\\\\n",
    "x_1(t_f) = x_{1f} \\\\\n",
    "x_2(0) = 0 \\\\\n",
    "x_2(t_f) = x_{2f} \\\\\n",
    "x_3(0) = x_{3i} \\\\\n",
    "x_4(0) = x_{4i} \\\\\n",
    "\\end{gather}"
   ]
  },
  {
   "cell_type": "markdown",
   "id": "4604c961-38ee-4528-be49-397e155a4166",
   "metadata": {},
   "source": [
    "Гамильтониан системы будет:\n",
    "\\begin{gather}\n",
    "H_1(t,x,v,p) = 1 + p_1 x_3 +p_2 x_4 + p_3 \\frac{c}{m} u \\cos{v} + p_4 \\frac{c}{m} u \\sin{v} - p_4 g\n",
    "\\end{gather}\n",
    "Так как добавившийся член не зависит от $u$, то частная производная по $u$ не будет отличаться от п.1, а значит решение аналогично:\n",
    "\\begin{gather}\n",
    "=> \\tan{v^* }(t) = \\frac{p_4(t)}{p_3(t)} => \\\\\n",
    "=> \\tan{v^* } = const => \\\\\n",
    "=> \\text{Аналогично  п.1 получим систему, которую можем решить относительно $t_f$, зная, что $x_1(t_f) = x_{1f}$ и $x_2(t_f) = x_{2f}$ :}\\\\\n",
    "\\begin{cases}\n",
    "x_1(t) = \\frac{cu}{m}\\cos{v}* \\frac{t^2}{2} + x_{3i} * t \\\\\n",
    "x_2(t) = \\left(\\frac{cu}{m}\\sin{v} - g\\right)* \\frac{t^2}{2} + x_{4i} * t \\\\\n",
    "x_3(t) = \\frac{cu}{m}\\cos{v}* t + x_{3i} \\\\\n",
    "x_4(t) = \\frac{cu}{m}\\sin{v}* t + x_{4i} - gt \\\\\n",
    "\\end{cases}\n",
    "\\end{gather}"
   ]
  },
  {
   "cell_type": "markdown",
   "id": "e3c96ba4-264b-4b32-a97a-cde682d5e0ac",
   "metadata": {
    "jp-MarkdownHeadingCollapsed": true,
    "tags": []
   },
   "source": [
    "## Пункт 2.2:\n",
    "Убедимся теперь в том, что тангенциальное управление также оптимизирует $min\\ \\phi(x(t_f))$\n",
    ",гамильтониан в данном случае будет: \n",
    "\\begin{gather}\n",
    "H_2 = p_1 x_3 +p_2 x_4 + p_3 \\frac{c}{m} u \\cos{v} + p_4 \\frac{c}{m} u \\sin{v} - p_4 g =>\\\\\n",
    "=> \\text{Откуда снова видим, что производная по $u$ не поменяется, а значит мы все так ж придем к тангенсу} => \\\\\n",
    "=> \\text{А занчит отличаться от предыдущего решения будет лишь значениями констант $c_1,c_2,c_3,c_4$}\n",
    "\\\\\n",
    "\\\\\n",
    "\\text{Из аддитивности интеграла следует, что сумма этих двух функционалов тоже будет оптимизироваться тангенциальным управлением}\n",
    "\\end{gather}"
   ]
  },
  {
   "cell_type": "markdown",
   "id": "6f2759b6-860b-4a2a-95bf-88ee690e02da",
   "metadata": {},
   "source": [
    "## Вычислительное решение"
   ]
  },
  {
   "cell_type": "code",
   "execution_count": 58,
   "id": "c918dfc2-eecc-401f-ad4b-84ada4c17f6d",
   "metadata": {
    "tags": []
   },
   "outputs": [],
   "source": [
    "from datetime import datetime\n",
    "from scipy.optimize import root,fsolve\n",
    "import time\n",
    "import math\n",
    "import numpy as np\n",
    "from numpy import cos, sin, tan\n",
    "import scipy.integrate as sci\n",
    "import matplotlib.pyplot as plt"
   ]
  },
  {
   "cell_type": "code",
   "execution_count": 63,
   "id": "122aa98e-a928-4583-a92a-2210a0311324",
   "metadata": {},
   "outputs": [
    {
     "name": "stdin",
     "output_type": "stream",
     "text": [
      "Вы хотите учитывать гравитацию (д/н) н\n"
     ]
    }
   ],
   "source": [
    "inf = input('Вы хотите учитывать гравитацию (д/н)')\n",
    "if inf == 'д':\n",
    "    info = 9.8\n",
    "elif inf == 'н':\n",
    "    info = 0"
   ]
  },
  {
   "cell_type": "code",
   "execution_count": 64,
   "id": "fb754b52-e15e-44c3-8bb0-d47bfff5cb37",
   "metadata": {
    "tags": []
   },
   "outputs": [],
   "source": [
    "class Parameters(object):\n",
    "    pass\n",
    "\n",
    "\n",
    "# Physical parameter\n",
    "param = Parameters()  # instance of class Parameters\n",
    "param.m = 50          # mass\n",
    "param.c = 10          # const\n",
    "param.u = 200     # mass flow\n",
    "param.x_0 = 0         # Начальная x координата ракеты\n",
    "param.y_0 = 0         # Начальная y координата ракеты\n",
    "param.Vx_0 = 50       # Vx(0) ракеты\n",
    "param.Vy_0 = 50      # Vy(0) ракеты\n",
    "param.x_t_f = 200     # x координата цели\n",
    "param.y_t_f = 200     # y координата цели\n",
    "param.g = info        # Гравитация\n",
    "# Simulation parameter\n",
    "sim_param = Parameters()  # instance of class Parameters\n",
    "sim_param.t0 = 0          # start time\n",
    "sim_param.tf = 10        # ? time\n",
    "sim_param.t1 = 10      # end time\n",
    "sim_param.dt = 0.1          # step-size"
   ]
  },
  {
   "cell_type": "code",
   "execution_count": null,
   "id": "203a5689-13ec-4385-92e2-6fec3d05a95c",
   "metadata": {},
   "outputs": [],
   "source": []
  },
  {
   "cell_type": "code",
   "execution_count": 65,
   "id": "62305cc4-4bc1-48e8-b264-f094079477eb",
   "metadata": {
    "tags": []
   },
   "outputs": [],
   "source": [
    "#Посчитаем значения угла:\n",
    "def sys(d):\n",
    "    return np.array([(param.c*param.u/param.m*np.cos(d[0]))*d[1]**2/2+param.Vx_0*d[1]-param.x_t_f,\n",
    "                     (param.c*param.u/param.m*np.sin(d[0])-param.g)*d[1]**2/2+param.Vy_0*d[1]-param.y_t_f])\n",
    "sol_root = fsolve(sys, [0.95,4])\n",
    "def sys2(d):\n",
    "    return (param.c*param.u/param.m*np.cos(fi))*d**2/2+param.Vx_0*d-param.x_t_f"
   ]
  },
  {
   "cell_type": "code",
   "execution_count": 66,
   "id": "47453656-38a1-4cef-a972-7ccdaaeb0d35",
   "metadata": {
    "tags": []
   },
   "outputs": [
    {
     "data": {
      "image/png": "[encoded data removed]",
      "text/plain": [
       "<Figure size 432x288 with 1 Axes>"
      ]
     },
     "metadata": {
      "needs_background": "light"
     },
     "output_type": "display_data"
    },
    {
     "data": {
      "image/png": "[encoded data removed]",
      "text/plain": [
       "<Figure size 432x288 with 1 Axes>"
      ]
     },
     "metadata": {
      "needs_background": "light"
     },
     "output_type": "display_data"
    },
    {
     "name": "stdout",
     "output_type": "stream",
     "text": [
      "Время попадания  = 3.7 c\n"
     ]
    }
   ],
   "source": [
    "\n",
    "tt = np.arange(sim_param.t0, sim_param.t1, sim_param.dt)\n",
    "\n",
    "# Условия\n",
    "null = [\n",
    "      param.x_0,\n",
    "      param.y_0\n",
    "      ]\n",
    "\n",
    "names = ['Координата по х','Координата по у']\n",
    "x_t_f = [param.x_t_f,param.y_t_f]\n",
    "sol_y = []\n",
    "sol_t = []\n",
    "cross = np.zeros((len(null),len(tt)))\n",
    "check = [[],[]]\n",
    "\n",
    "fi = sol_root[0]\n",
    "\n",
    "\n",
    "def f1(t,y):\n",
    "    return param.c*param.u/param.m*np.cos(fi)*t\n",
    "def f2(t,y):\n",
    "    return (param.c*param.u/param.m*np.sin(fi) - param.g)*t\n",
    "\n",
    "diff = [\n",
    "        f1,\n",
    "        f2]\n",
    "\n",
    "\n",
    "\n",
    "\n",
    "for i in range(len(null)):\n",
    "    x0 = [null[i]]\n",
    "    sollution = sci.solve_ivp(diff[i],(sim_param.t0,sim_param.t1), x0, t_eval = tt)\n",
    "    sol_t.append(sollution.t)\n",
    "    sol_y.append(sollution.y)\n",
    "    plt.plot(tt,sollution.y.T)\n",
    "    \n",
    "    f = sollution.y.T\n",
    "    plt.plot(sollution.t,[x_t_f[i]]*len(tt))\n",
    "    plt.title(names[i])\n",
    "    plt.show()\n",
    "    \n",
    "sol_t = np.array(sol_t)\n",
    "sol_y = np.array(sol_y)\n",
    "x = tt\n",
    "f = sol_y[0]\n",
    "g = [x_t_f[i]]*len(tt)\n",
    "idx = np.argwhere(np.diff(np.sign(f - g))).flatten()\n",
    "print('Время попадания  =' , tt[idx[1]].round(3),'c')\n",
    "    "
   ]
  },
  {
   "cell_type": "code",
   "execution_count": 51,
   "id": "e346e3e5-2431-4f58-944f-b18781a07410",
   "metadata": {
    "tags": []
   },
   "outputs": [],
   "source": []
  },
  {
   "cell_type": "code",
   "execution_count": 52,
   "id": "4c6b1e3f-feb3-4daf-8ebd-b5f388ff07e7",
   "metadata": {
    "tags": []
   },
   "outputs": [
    {
     "data": {
      "image/png": "[encoded data removed]",
      "text/plain": [
       "<Figure size 432x288 with 2 Axes>"
      ]
     },
     "metadata": {
      "needs_background": "light"
     },
     "output_type": "display_data"
    },
    {
     "name": "stdout",
     "output_type": "stream",
     "text": [
      "время выполнения вычислений : 0:00:00.164695\n"
     ]
    }
   ],
   "source": []
  },
  {
   "cell_type": "code",
   "execution_count": null,
   "id": "2002ffa0-4ef6-46b1-adcf-569d345e857c",
   "metadata": {},
   "outputs": [],
   "source": []
  }
 ],
 "metadata": {
  "kernelspec": {
   "display_name": "Python 3 (ipykernel)",
   "language": "python",
   "name": "python3"
  },
  "language_info": {
   "codemirror_mode": {
    "name": "ipython",
    "version": 3
   },
   "file_extension": ".py",
   "mimetype": "text/x-python",
   "name": "python",
   "nbconvert_exporter": "python",
   "pygments_lexer": "ipython3",
   "version": "3.9.7"
  }
 },
 "nbformat": 4,
 "nbformat_minor": 5
}
