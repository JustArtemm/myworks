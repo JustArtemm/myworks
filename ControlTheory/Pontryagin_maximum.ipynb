{
  "cells": [
    {
      "cell_type": "markdown",
      "id": "f504fca8-1290-4cc8-be88-d0e362b70fe2",
      "metadata": {
        "tags": [],
        "id": "f504fca8-1290-4cc8-be88-d0e362b70fe2"
      },
      "source": [
        "# Задача: \n",
        "## Рассмотрим ракету, смоделированную как частица постоянной массы $m$, движущаяся в пустом пространстве с невесомостью. Пусть $u$ - поток масс Пусть $u$ — массовый расход, который считается известной функцией времени, а $c$ — постоянная скорость тяги. Оценка движения дается при помощи выражений:\n",
        "\n",
        "## Consider a rocket modeled as a particle of constant mass $m$ moving in empty space with zero gravity. Let $u$ be the mass flow, Let $u$ be the mass flow rate, which is considered a known function of time, and $c$ is the constant thrust velocity. The evaluation of the movement is given using expressions:\n",
        "\\begin{gather}\n",
        "\\dot x_1(t) = x_3(t) \\\\\n",
        "\\dot x_2(t) = x_4(t) \\\\\n",
        "\\dot x_3(t) = \\frac{c}{m} u(t)cos v(t) \\\\\n",
        "\\dot x_4(t) = \\frac{c}{m} u(t)sin v(t)\n",
        "\\end{gather}\n",
        "\n",
        "![Rocket2.png](data:image/png;base64,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)\n",
        "\n",
        "## Задание:\n",
        "* Пусть ракета в приведенном выше примере представляет собой боеголовку, цель которой находится в состоянии покоя. Естественная цель тогда состоит в том, чтобы минимизировать время перехода $t_f$ из состояния $(0,0,x_{3i},x_{4i})$ в состояние $(x_{1f},x_{2f},free,free)$. Решить задачу в предположении, что $u$ постоянна.\n",
        "* Теперь для большей реалистичности предположим, что движение происходит под действием постоянной силы тяжести G. Единственное отличие от приведенной выше системы состоит в том, что уравнение для четвертого состояния заменено на:\n",
        "\\begin{gather}\n",
        "\\dot x_4(t) = \\frac{c}{m} u(t)sin v(t) - g \\\\\n",
        "\\end{gather}\n",
        "\n",
        "Показать, что билинейный тангенциальный закон все еще оптимален для функционала:\n",
        "\\begin{gather}\n",
        "minimize \\int\\limits_0^{t_{f}} dt + min\\  \\phi(x(t_f))\n",
        "\\end{gather}"
      ]
    },
    {
      "cell_type": "markdown",
      "id": "a5999819-89fa-47fb-82bf-c643578759f2",
      "metadata": {
        "id": "a5999819-89fa-47fb-82bf-c643578759f2"
      },
      "source": [
        "## Теория\n",
        "Пусть у нас есть задача оптимизации непрерывного времени следующего вида:\n",
        "\\begin{gather}\n",
        "max\\ \\int\\limits_0^{T}F(x(t),u(t),t)dt\\\\\n",
        "\\end{gather}\n",
        "Тогда гамильтониан будет строиться по принципу:\n",
        "\\begin{gather}\n",
        "H(x,u,P,t) = p_0F(x,u,t) + \\sum_{i=1}^{N}p_iQ_i(x,u,t)\n",
        "\\end{gather}"
      ]
    },
    {
      "cell_type": "markdown",
      "id": "c1ad3cba-362e-4765-bcb4-61f6c580654f",
      "metadata": {
        "tags": [],
        "id": "c1ad3cba-362e-4765-bcb4-61f6c580654f"
      },
      "source": [
        "## Решение пункта 1:\n",
        "задача состоит в том, чтобы минимизировать $\\int\\limits_0^{t_{f}} dt$ при условии\n",
        "\\begin{gather}\n",
        "\\dot x_1(t) = x_3(t) \\\\\n",
        "\\dot x_2(t) = x_4(t) \\\\\n",
        "\\dot x_3(t) = \\frac{c}{m} u(t)cos v(t) \\\\\n",
        "\\dot x_4(t) = \\frac{c}{m} u(t)sin v(t)\n",
        "\\end{gather}\n",
        "и\n",
        "\\begin{gather}\n",
        "x_1(0) = 0 \\\\\n",
        "x_1(t_f) = x_{1f} \\\\\n",
        "x_2(0) = 0 \\\\\n",
        "x_2(t_f) = x_{2f} \\\\\n",
        "x_3(0) = x_{3i} \\\\\n",
        "x_4(0) = x_{4i} \\\\\n",
        "\\end{gather}"
      ]
    },
    {
      "cell_type": "markdown",
      "id": "ca999015-f03b-452a-9ba7-1dd3bf085c7d",
      "metadata": {
        "jp-MarkdownHeadingCollapsed": true,
        "tags": [],
        "id": "ca999015-f03b-452a-9ba7-1dd3bf085c7d"
      },
      "source": [
        " Гамильтониан нашей системы будет:\n",
        "\\begin{gather}\n",
        "H(t,x,v,p) = 1 + p_1 x_3 +p_2 x_4 + p_3 \\frac{c}{m} u \\cos{v} + p_4 \\frac{c}{m} u \\sin{v}\n",
        "\\end{gather}\n",
        "\n",
        " Посчитаем частную производную $H$ по $u$:\n",
        "\\begin{gather}\n",
        "H_u = p_3 \\frac{c}{m} \\cos{v} + p_4 \\frac{c}{m} \\sin{v} = 0 \\\\\n",
        "p_3 \\cos{v} + p_4 \\sin{v} = 0 \\\\\n",
        "\\sqrt{p_3^2+p_4^2} \\left( \\frac{p_3}{\\sqrt{p_3^2+p_4^2}} \\cos{v} + \\frac{p_4}{\\sqrt{p_3^2+p_4^2}} \\sin{v} \\right) = 0 => \\\\\n",
        "=> \\sqrt{p_3^2+p_4^2} \\sin{(\\alpha+v)}, \\quad  \\alpha : \n",
        " \\begin{cases}\n",
        "   \\cos{\\alpha} = \\frac{p_4}{\\sqrt{p_3^2+p_4^2}}\\\\\n",
        "   \\sin{\\alpha} = \\frac{p_3}{\\sqrt{p_3^2+p_4^2}}\n",
        " \\end{cases}\n",
        " => \\\\\n",
        "\\end{gather}\n",
        "Оптимальное управление будет:\n",
        "\\begin{gather}\n",
        " v^{* }(t) = -\\alpha(p(t)) - \\frac{\\pi}{2} => \\\\\n",
        " => \\tan{v^{* }} = \\frac{p_4(t)}{p_3(t)}\n",
        "\\end{gather}\n",
        "Сопряженные и им соответствующие уравнения:\n",
        "\\begin{gather}\n",
        "\\dot p_i(t) = -\\frac{\\partial H}{\\partial x_i} = \n",
        "\\left(\n",
        "\\begin{array}{}\n",
        "0 \\\\\n",
        "0 \\\\\n",
        "-p_1(t) \\\\\n",
        "-p_2(t) \n",
        "\\end{array}\n",
        "\\right)\n",
        "=> \\\\\n",
        "\\begin{cases}\n",
        "p_1(t) = c_1 \\\\\n",
        "p_2(t) = c_2 \\\\\n",
        "p_3(t) = -c_1 t + c_3 \\\\\n",
        "p_4(t) = -c_2 t + c_4 \\\\\n",
        "\\end{cases}\n",
        "\\end{gather}\n",
        "Для нашей задачи:\n",
        "\\begin{gather}\n",
        "p_3(t) = -c_1(t-t_f)\\\\\n",
        "p_4(t) = -c_2(t-t_f)\\\\\n",
        "=>\\\\\n",
        "\\tan{v^{* }} = \\frac{p_4}{p_3} = \\frac{c_2}{c_1} = const\n",
        "\\end{gather}\n",
        "Т.к. $v^{* }$ и $u$ - постоянны, то система уравнений принимает вид:\n",
        "\\begin{gather}\n",
        "\\dot x_3(t) = \\frac{cu}{m} \\cos{v}, \\quad x_3(0) = x_{3i} => \\\\\n",
        "x_3(t) = \\frac{cu}{m}\\cos{v}* t + x_{3i} \\\\\n",
        "\\dot x_4(t) = \\frac{cu}{m} \\sin{v}, \\quad x_4(0) = x_{4i} => \\\\\n",
        "x_4(t) = \\frac{cu}{m}\\sin{v}* t + x_{4i} \\\\\n",
        "\\\\\n",
        "\\dot x_1(t) = x_3(t), \\quad x_1(0) = 0 => \\\\\n",
        "x_1(t) = \\frac{cu}{m}\\cos{v}* \\frac{t^2}{2} + x_{3i} * t \\\\\n",
        "\\dot x_2(t) = x_4(t), \\quad x_2(0) = 0 => \\\\\n",
        "x_2(t) = \\frac{cu}{m}\\sin{v}* \\frac{t^2}{2} + x_{4i} * t \\\\\n",
        "\\end{gather}\n",
        "В итоге получили систему, которую можем решить относительно $t_f$, зная, что $x_1(t_f) = x_{1f}$ и $x_2(t_f) = x_{2f}$ :\n",
        "\\begin{cases}\n",
        "x_1(t) = \\frac{cu}{m}\\cos{v}* \\frac{t^2}{2} + x_{3i} * t \\\\\n",
        "x_2(t) = \\frac{cu}{m}\\sin{v}* \\frac{t^2}{2} + x_{4i} * t \\\\\n",
        "x_3(t) = \\frac{cu}{m}\\cos{v}* t + x_{3i} \\\\\n",
        "x_4(t) = \\frac{cu}{m}\\sin{v}* t + x_{4i} \\\\\n",
        "\\end{cases}\n"
      ]
    },
    {
      "cell_type": "markdown",
      "id": "7a1f0e2b-0c29-4bbb-8470-4799160b0441",
      "metadata": {
        "id": "7a1f0e2b-0c29-4bbb-8470-4799160b0441"
      },
      "source": [
        "## Решение пункта 2:\n",
        "Задача отличается от п.1 лишь тем, что теперь мы учитываем гравитацию, т.е: задача состоит в том, чтобы минимизировать $\\int\\limits_0^{t_{f}} dt$ при условии\n",
        "\\begin{gather}\n",
        "\\dot x_1(t) = x_3(t) \\\\\n",
        "\\dot x_2(t) = x_4(t) \\\\\n",
        "\\dot x_3(t) = \\frac{c}{m} u(t)cos v(t) \\\\\n",
        "\\dot x_4(t) = \\frac{c}{m} u(t)sin v(t) -g\\\\\n",
        "\\end{gather}\n",
        "и\n",
        "\\begin{gather}\n",
        "x_1(0) = 0 \\\\\n",
        "x_1(t_f) = x_{1f} \\\\\n",
        "x_2(0) = 0 \\\\\n",
        "x_2(t_f) = x_{2f} \\\\\n",
        "x_3(0) = x_{3i} \\\\\n",
        "x_4(0) = x_{4i} \\\\\n",
        "\\end{gather}"
      ]
    },
    {
      "cell_type": "markdown",
      "id": "4604c961-38ee-4528-be49-397e155a4166",
      "metadata": {
        "id": "4604c961-38ee-4528-be49-397e155a4166"
      },
      "source": [
        "Гамильтониан системы будет:\n",
        "\\begin{gather}\n",
        "H_1(t,x,v,p) = 1 + p_1 x_3 +p_2 x_4 + p_3 \\frac{c}{m} u \\cos{v} + p_4 \\frac{c}{m} u \\sin{v} - p_4 g\n",
        "\\end{gather}\n",
        "Так как добавившийся член не зависит от $u$, то частная производная по $u$ не будет отличаться от п.1, а значит решение аналогично:\n",
        "\\begin{gather}\n",
        "=> \\tan{v^* }(t) = \\frac{p_4(t)}{p_3(t)} => \\\\\n",
        "=> \\tan{v^* } = const => \\\\\n",
        "=> \\text{Аналогично  п.1 получим систему, которую можем решить относительно $t_f$, зная, что $x_1(t_f) = x_{1f}$ и $x_2(t_f) = x_{2f}$ :}\\\\\n",
        "\\begin{cases}\n",
        "x_1(t) = \\frac{cu}{m}\\cos{v}* \\frac{t^2}{2} + x_{3i} * t \\\\\n",
        "x_2(t) = \\left(\\frac{cu}{m}\\sin{v} - g\\right)* \\frac{t^2}{2} + x_{4i} * t \\\\\n",
        "x_3(t) = \\frac{cu}{m}\\cos{v}* t + x_{3i} \\\\\n",
        "x_4(t) = \\frac{cu}{m}\\sin{v}* t + x_{4i} - gt \\\\\n",
        "\\end{cases}\n",
        "\\end{gather}"
      ]
    },
    {
      "cell_type": "markdown",
      "id": "e3c96ba4-264b-4b32-a97a-cde682d5e0ac",
      "metadata": {
        "jp-MarkdownHeadingCollapsed": true,
        "tags": [],
        "id": "e3c96ba4-264b-4b32-a97a-cde682d5e0ac"
      },
      "source": [
        "## Пункт 2.2:\n",
        "Убедимся теперь в том, что тангенциальное управление также оптимизирует $min\\ \\phi(x(t_f))$\n",
        ",гамильтониан в данном случае будет: \n",
        "\\begin{gather}\n",
        "H_2 = p_1 x_3 +p_2 x_4 + p_3 \\frac{c}{m} u \\cos{v} + p_4 \\frac{c}{m} u \\sin{v} - p_4 g =>\\\\\n",
        "=> \\text{Откуда снова видим, что производная по $u$ не поменяется, а значит мы все так ж придем к тангенсу} => \\\\\n",
        "=> \\text{А занчит отличаться от предыдущего решения будет лишь значениями констант $c_1,c_2,c_3,c_4$}\n",
        "\\\\\n",
        "\\\\\n",
        "\\text{Из аддитивности интеграла следует, что сумма этих двух функционалов тоже будет оптимизироваться тангенциальным управлением}\n",
        "\\end{gather}"
      ]
    },
    {
      "cell_type": "markdown",
      "id": "6f2759b6-860b-4a2a-95bf-88ee690e02da",
      "metadata": {
        "id": "6f2759b6-860b-4a2a-95bf-88ee690e02da"
      },
      "source": [
        "## Вычислительное решение"
      ]
    },
    {
      "cell_type": "code",
      "execution_count": null,
      "id": "c918dfc2-eecc-401f-ad4b-84ada4c17f6d",
      "metadata": {
        "tags": [],
        "id": "c918dfc2-eecc-401f-ad4b-84ada4c17f6d"
      },
      "outputs": [],
      "source": [
        "from datetime import datetime\n",
        "from scipy.optimize import root,fsolve\n",
        "import time\n",
        "import math\n",
        "import numpy as np\n",
        "from numpy import cos, sin, tan\n",
        "import scipy.integrate as sci\n",
        "import matplotlib.pyplot as plt"
      ]
    },
    {
      "cell_type": "code",
      "execution_count": null,
      "id": "122aa98e-a928-4583-a92a-2210a0311324",
      "metadata": {
        "id": "122aa98e-a928-4583-a92a-2210a0311324",
        "outputId": "8ec0e4b1-25e2-4611-b807-af5bb0fb04ce"
      },
      "outputs": [
        {
          "name": "stdin",
          "output_type": "stream",
          "text": [
            "Вы хотите учитывать гравитацию (д/н) н\n"
          ]
        }
      ],
      "source": [
        "inf = input('Вы хотите учитывать гравитацию (д/н)')\n",
        "if inf == 'д':\n",
        "    info = 9.8\n",
        "elif inf == 'н':\n",
        "    info = 0"
      ]
    },
    {
      "cell_type": "code",
      "execution_count": null,
      "id": "fb754b52-e15e-44c3-8bb0-d47bfff5cb37",
      "metadata": {
        "tags": [],
        "id": "fb754b52-e15e-44c3-8bb0-d47bfff5cb37"
      },
      "outputs": [],
      "source": [
        "class Parameters(object):\n",
        "    pass\n",
        "\n",
        "\n",
        "# Physical parameter\n",
        "param = Parameters()  # instance of class Parameters\n",
        "param.m = 50          # mass\n",
        "param.c = 10          # const\n",
        "param.u = 200     # mass flow\n",
        "param.x_0 = 0         # Начальная x координата ракеты\n",
        "param.y_0 = 0         # Начальная y координата ракеты\n",
        "param.Vx_0 = 50       # Vx(0) ракеты\n",
        "param.Vy_0 = 50      # Vy(0) ракеты\n",
        "param.x_t_f = 200     # x координата цели\n",
        "param.y_t_f = 200     # y координата цели\n",
        "param.g = info        # Гравитация\n",
        "# Simulation parameter\n",
        "sim_param = Parameters()  # instance of class Parameters\n",
        "sim_param.t0 = 0          # start time\n",
        "sim_param.tf = 10        # ? time\n",
        "sim_param.t1 = 10      # end time\n",
        "sim_param.dt = 0.1          # step-size"
      ]
    },
    {
      "cell_type": "code",
      "execution_count": null,
      "id": "203a5689-13ec-4385-92e2-6fec3d05a95c",
      "metadata": {
        "id": "203a5689-13ec-4385-92e2-6fec3d05a95c"
      },
      "outputs": [],
      "source": []
    },
    {
      "cell_type": "code",
      "execution_count": null,
      "id": "62305cc4-4bc1-48e8-b264-f094079477eb",
      "metadata": {
        "tags": [],
        "id": "62305cc4-4bc1-48e8-b264-f094079477eb"
      },
      "outputs": [],
      "source": [
        "#Посчитаем значения угла:\n",
        "def sys(d):\n",
        "    return np.array([(param.c*param.u/param.m*np.cos(d[0]))*d[1]**2/2+param.Vx_0*d[1]-param.x_t_f,\n",
        "                     (param.c*param.u/param.m*np.sin(d[0])-param.g)*d[1]**2/2+param.Vy_0*d[1]-param.y_t_f])\n",
        "sol_root = fsolve(sys, [0.95,4])\n",
        "def sys2(d):\n",
        "    return (param.c*param.u/param.m*np.cos(fi))*d**2/2+param.Vx_0*d-param.x_t_f"
      ]
    },
    {
      "cell_type": "code",
      "execution_count": null,
      "id": "47453656-38a1-4cef-a972-7ccdaaeb0d35",
      "metadata": {
        "tags": [],
        "id": "47453656-38a1-4cef-a972-7ccdaaeb0d35",
        "outputId": "820b180e-a61e-4095-9b69-03873f72268f"
      },
      "outputs": [
        {
          "data": {
            "image/png": "[encoded data removed]",
            "text/plain": [
              "<Figure size 432x288 with 1 Axes>"
            ]
          },
          "metadata": {
            "needs_background": "light"
          },
          "output_type": "display_data"
        },
        {
          "data": {
            "image/png": "[encoded data removed]",
            "text/plain": [
              "<Figure size 432x288 with 1 Axes>"
            ]
          },
          "metadata": {
            "needs_background": "light"
          },
          "output_type": "display_data"
        },
        {
          "name": "stdout",
          "output_type": "stream",
          "text": [
            "Время попадания  = 3.7 c\n"
          ]
        }
      ],
      "source": [
        "\n",
        "tt = np.arange(sim_param.t0, sim_param.t1, sim_param.dt)\n",
        "\n",
        "# Условия\n",
        "null = [\n",
        "      param.x_0,\n",
        "      param.y_0\n",
        "      ]\n",
        "\n",
        "names = ['Координата по х','Координата по у']\n",
        "x_t_f = [param.x_t_f,param.y_t_f]\n",
        "sol_y = []\n",
        "sol_t = []\n",
        "cross = np.zeros((len(null),len(tt)))\n",
        "check = [[],[]]\n",
        "\n",
        "fi = sol_root[0]\n",
        "\n",
        "\n",
        "def f1(t,y):\n",
        "    return param.c*param.u/param.m*np.cos(fi)*t\n",
        "def f2(t,y):\n",
        "    return (param.c*param.u/param.m*np.sin(fi) - param.g)*t\n",
        "\n",
        "diff = [\n",
        "        f1,\n",
        "        f2]\n",
        "\n",
        "\n",
        "\n",
        "\n",
        "for i in range(len(null)):\n",
        "    x0 = [null[i]]\n",
        "    sollution = sci.solve_ivp(diff[i],(sim_param.t0,sim_param.t1), x0, t_eval = tt)\n",
        "    sol_t.append(sollution.t)\n",
        "    sol_y.append(sollution.y)\n",
        "    plt.plot(tt,sollution.y.T)\n",
        "    \n",
        "    f = sollution.y.T\n",
        "    plt.plot(sollution.t,[x_t_f[i]]*len(tt))\n",
        "    plt.title(names[i])\n",
        "    plt.show()\n",
        "    \n",
        "sol_t = np.array(sol_t)\n",
        "sol_y = np.array(sol_y)\n",
        "x = tt\n",
        "f = sol_y[0]\n",
        "g = [x_t_f[i]]*len(tt)\n",
        "idx = np.argwhere(np.diff(np.sign(f - g))).flatten()\n",
        "print('Время попадания  =' , tt[idx[1]].round(3),'c')\n",
        "    "
      ]
    },
    {
      "cell_type": "code",
      "execution_count": null,
      "id": "e346e3e5-2431-4f58-944f-b18781a07410",
      "metadata": {
        "tags": [],
        "id": "e346e3e5-2431-4f58-944f-b18781a07410"
      },
      "outputs": [],
      "source": []
    },
    {
      "cell_type": "code",
      "execution_count": null,
      "id": "4c6b1e3f-feb3-4daf-8ebd-b5f388ff07e7",
      "metadata": {
        "tags": [],
        "id": "4c6b1e3f-feb3-4daf-8ebd-b5f388ff07e7",
        "outputId": "16182e14-d58a-4cac-dd0e-8a15212e7d54"
      },
      "outputs": [
        {
          "data": {
            "image/png": "[encoded data removed]",
            "text/plain": [
              "<Figure size 432x288 with 2 Axes>"
            ]
          },
          "metadata": {
            "needs_background": "light"
          },
          "output_type": "display_data"
        },
        {
          "name": "stdout",
          "output_type": "stream",
          "text": [
            "время выполнения вычислений : 0:00:00.164695\n"
          ]
        }
      ],
      "source": []
    },
    {
      "cell_type": "code",
      "execution_count": null,
      "id": "2002ffa0-4ef6-46b1-adcf-569d345e857c",
      "metadata": {
        "id": "2002ffa0-4ef6-46b1-adcf-569d345e857c"
      },
      "outputs": [],
      "source": []
    }
  ],
  "metadata": {
    "kernelspec": {
      "display_name": "Python 3 (ipykernel)",
      "language": "python",
      "name": "python3"
    },
    "language_info": {
      "codemirror_mode": {
        "name": "ipython",
        "version": 3
      },
      "file_extension": ".py",
      "mimetype": "text/x-python",
      "name": "python",
      "nbconvert_exporter": "python",
      "pygments_lexer": "ipython3",
      "version": "3.9.7"
    },
    "colab": {
      "provenance": []
    }
  },
  "nbformat": 4,
  "nbformat_minor": 5
}