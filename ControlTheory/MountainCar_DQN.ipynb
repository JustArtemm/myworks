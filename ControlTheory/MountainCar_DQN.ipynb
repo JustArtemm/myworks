{
  "nbformat": 4,
  "nbformat_minor": 0,
  "metadata": {
    "colab": {
      "provenance": []
    },
    "kernelspec": {
      "name": "python3",
      "display_name": "Python 3"
    },
    "language_info": {
      "name": "python"
    }
  },
  "cells": [
    {
      "cell_type": "markdown",
      "source": [
        "# MountainCar (DQN)"
      ],
      "metadata": {
        "id": "hHYgfi0DuOnD"
      }
    },
    {
      "cell_type": "markdown",
      "source": [
        "## Постановка задачи\n",
        "В двумерном мире машине нужно подняться из впадины между двумя горами на вершину правой горы. Машина не может въехать с первой попытки на нужную гору. Нужно обучить агента (в нашем случае — нейронную сеть), который сможет, управляя ею, подняться на правый холм как можно быстрее.\n",
        "## Problem statement\n",
        "In a two-dimensional world, a car needs to climb out of a depression between two mountains at the top of the right mountain. The car cannot enter the desired mountain on the first attempt. It is necessary to train an agent (in our case, a neural network) who can, by controlling it, climb the right hill as quickly as possible."
      ],
      "metadata": {
        "id": "hqtnq_zeuRAa"
      }
    },
    {
      "cell_type": "markdown",
      "source": [
        "## Среда MountainCar\n",
        "## MountainCar environment"
      ],
      "metadata": {
        "id": "gd94EpSTufAF"
      }
    },
    {
      "cell_type": "markdown",
      "source": [
        "На каждом шагу агент получает состояние s и награду r в ответ на совершенное им действие a.\n",
        "Эпизод может завершиться в случае, если автомобиль достиг вершины правого холма или в случае, если агент сделал 200 шагов.\n",
        "At each step, the agent receives the state s and the reward r in response to the action a performed by him.\n",
        "The episode can end if the car has reached the top of the right hill or if the agent has taken 200 steps."
      ],
      "metadata": {
        "id": "01FY1A9axgjd"
      }
    },
    {
      "cell_type": "markdown",
      "source": [
        "![MountainCar](https://www.gymlibrary.dev/_images/mountain_car.gif)\n",
        "\n",
        "<font size=\"3\">\n",
        "<p>Эта среда - одна из систем в <a href='https://www.gymlibrary.dev/environments/classic_control'>Classic Control environments</a>.</p>\n",
        "<p>This environment is one of the systems in <a href='https://www.gymlibrary.dev/environments/classic_control'>Classic Control environments</a>.</p>\n",
        "<div class=\"table-wrapper colwidths-auto docutils container\">\n",
        "<table class=\"docutils align-default\">\n",
        "<thead>\n",
        "<tr class=\"row-odd\"><th class=\"head\"><p></p></th>\n",
        "<th class=\"head\"><p></p></th>\n",
        "</tr>\n",
        "</thead>\n",
        "<tbody>\n",
        "<tr class=\"row-even\"><td><p>Пространство действий</p></td>\n",
        "<td><p>Discrete(3)</p></td>\n",
        "</tr>\n",
        "<tr class=\"row-odd\"><td><p>Размер вектора состояния</p></td>\n",
        "<td><p>(2,)</p></td>\n",
        "</tr>\n",
        "<tr class=\"row-even\"><td><p>Верхние границы</p></td>\n",
        "<td><p>[0.6 0.07]</p></td>\n",
        "</tr>\n",
        "<tr class=\"row-odd\"><td><p>Нижние границы</p></td>\n",
        "<td><p>[-1.2 -0.07]</p></td>\n",
        "</tr>\n",
        "<tr class=\"row-even\"><td><p>Импорт</p></td>\n",
        "<td><p><code class=\"docutils literal notranslate\"><span class=\"pre\">gym.make(&quot;MountainCar-v0&quot;)</span></code></p></td>\n",
        "</tr>\n",
        "</tbody>\n",
        "</table>\n",
        "<table class=\"docutils align-default\">\n",
        "<thead>\n",
        "<tr class=\"row-odd\"><th class=\"head\"><p></p></th>\n",
        "<th class=\"head\"><p></p></th>\n",
        "</tr>\n",
        "</thead>\n",
        "<tbody>\n",
        "<tr class=\"row-even\"><td><p>Action space</p></td>\n",
        "<td><p>Discrete(3)</p></td>\n",
        "</tr>\n",
        "<tr class=\"row-odd\"><td><p>Size of the state vector</p></td>\n",
        "<td><p>(2,)</p></td>\n",
        "</tr>\n",
        "<tr class=\"row-even\"><td><p>Upper bounds</p></td>\n",
        "<td><p>[0.6 0.07]</p></td>\n",
        "</tr>\n",
        "<tr class=\"row-odd\"><td><p>Lower bounds</p></td>\n",
        "<td><p>[-1.2 -0.07]</p></td>\n",
        "</tr>\n",
        "<tr class=\"row-even\"><td><p>Import</p></td>\n",
        "<td><p><code class=\"docutils literal notranslate\"><span class=\"pre\">gym.make(&quot;MountainCar-v0&quot;)</span></code></p></td>\n",
        "</tr>\n",
        "</tbody>\n",
        "</table>"
      ],
      "metadata": {
        "id": "Sol_wPuWu8-v"
      }
    },
    {
      "cell_type": "markdown",
      "source": [
        "### Состояния\n",
        "### States\n",
        "\n",
        "<table class=\"docutils align-default\">\n",
        "<thead>\n",
        "<tr class=\"row-odd\"><th class=\"head\"><p>№</p></th>\n",
        "<th class=\"head\"><p>Переменная</p></th>\n",
        "<th class=\"head\"><p>Min</p></th>\n",
        "<th class=\"head\"><p>Max</p></th>\n",
        "</tr>\n",
        "</thead>\n",
        "<tbody>\n",
        "<tr class=\"row-even\"><td><p>0</p></td>\n",
        "<td><p>Положение машинки по оси x</p></td>\n",
        "<td><p>-inf</p></td>\n",
        "<td><p>inf</p></td>\n",
        "</tr>\n",
        "<tr class=\"row-odd\"><td><p>1</p></td>\n",
        "<td><p>Скорость машинки</p></td>\n",
        "<td><p>-Inf</p></td>\n",
        "<td><p>Inf</p></td>\n",
        "</tr>\n",
        "</tbody>\n",
        "</table>\n",
        "<table class=\"docutils align-default\">\n",
        "<thead>\n",
        "<tr class=\"row-odd\"><th class=\"head\"><p>№</p></th>\n",
        "<th class=\"head\"><p>Variable</p></th>\n",
        "<th class=\"head\"><p>Min</p></th>\n",
        "<th class=\"head\"><p>Max</p></th>\n",
        "</tr>\n",
        "</thead>\n",
        "<tbody>\n",
        "<tr class=\"row-even\"><td><p>0</p></td>\n",
        "<td><p>The position of the car on the x axis</p></td>\n",
        "<td><p>-inf</p></td>\n",
        "<td><p>inf</p></td>\n",
        "</tr>\n",
        "<tr class=\"row-odd\"><td><p>1</p></td>\n",
        "<td><p>Car speed</p></td>\n",
        "<td><p>-Inf</p></td>\n",
        "<td><p>Inf</p></td>\n",
        "</tr>\n",
        "</tbody>\n",
        "</table>"
      ],
      "metadata": {
        "id": "8QY1qvy9uijC"
      }
    },
    {
      "cell_type": "markdown",
      "source": [
        "### Действия\n",
        "### Actions\n",
        "\n",
        "<table class=\"docutils align-default\">\n",
        "<thead>\n",
        "<tr class=\"row-odd\"><th class=\"head\"><p>№</p></th>\n",
        "<th class=\"head\"><p>Действие</p></th>\n",
        "</tr>\n",
        "</thead>\n",
        "<tbody>\n",
        "<tr class=\"row-even\"><td><p>0</p></td>\n",
        "<td><p>Двинуть машинку налево</p></td>\n",
        "</tr>\n",
        "<tr class=\"row-odd\"><td><p>1</p></td>\n",
        "<td><p>Не двигать машинку</p></td>\n",
        "</tr>\n",
        "<tr class=\"row-odd\"><td><p>2</p></td>\n",
        "<td><p>Двинуть машинку направо</p></td>\n",
        "</tr>\n",
        "</tbody>\n",
        "</table>\n",
        "<table class=\"docutils align-default\">\n",
        "<thead>\n",
        "<tr class=\"row-odd\"><th class=\"head\"><p>№</p></th>\n",
        "<th class=\"head\"><p>Action</p></th>\n",
        "</tr>\n",
        "</thead>\n",
        "<tbody>\n",
        "<tr class=\"row-even\"><td><p>0</p></td>\n",
        "<td><p>Move car left</p></td>\n",
        "</tr>\n",
        "<tr class=\"row-odd\"><td><p>1</p></td>\n",
        "<td><p>Do not move car</p></td>\n",
        "</tr>\n",
        "<tr class=\"row-odd\"><td><p>2</p></td>\n",
        "<td><p>Move car right</p></td>\n",
        "</tr>\n",
        "</tbody>\n",
        "</table>"
      ],
      "metadata": {
        "id": "LzvHv3Myvq4y"
      }
    },
    {
      "cell_type": "markdown",
      "source": [
        "Эпизод заканчивается привыполнении одного из следующих условий:\n",
        "\n",
        "- Termination: Положение машинки больше или равно 0.5 (положение на вершине правого холма)\n",
        "\n",
        "- Truncation: Эпизод продолжается 200 шагов\n",
        "\n",
        "The episode ends when one of the following conditions is met:\n",
        "\n",
        "- Termination: The position of the typewriter is greater than or equal to 0.5 (position at the top of the right hill)\n",
        "\n",
        "- Truncation: The episode continues 200 steps"
      ],
      "metadata": {
        "id": "OtZJv9-bvq1a"
      }
    },
    {
      "cell_type": "markdown",
      "source": [
        "## Немного теории\n",
        "Задача обучения с подкреплением задается: \n",
        "* набором из пространства состояний S\n",
        "* пространства действий A\n",
        "* степенной показатель для кумулятивной награды $\\gamma$ \n",
        "* функции награды R.\\\n",
        "Цель заключается в том, чтобы максимизировать награду \n",
        "\\begin{align}\n",
        "R = \\sum_{t = 0}^{N} \\gamma^{t}r_{t}\n",
        "\\end{align}\n",
        ", где t — номер шага в среде, а N — количество шагов в эпизоде.\n",
        "\n",
        "## A little theory\n",
        "The reinforcement learning task is given by: \n",
        "* a set from the state space S\n",
        "* action spaces A\n",
        "* power exponent for cumulative reward $\\gamma$ \n",
        "* Reward functions R.\\ The\n",
        "goal is to maximize the reward \n",
        "\\begin{align}\n",
        "R = \\sum_{t = 0}^{N} \\gamma^{t}r_{t}\n",
        "\\end{align}\n",
        ", where t is the step number in the environment, and N is the number of steps in the episode."
      ],
      "metadata": {
        "id": "VxDdyUJJwibx"
      }
    },
    {
      "cell_type": "markdown",
      "source": [
        "Чтобы решить эту задачу, определим value-функцию V от состояния s как значение максимальной кумулятивной награды при условии, что мы начинаем в состоянии s. Зная такую функцию, мы можем решить задачу просто каждым шагом переходя в s с максимально возможным значением. В большинстве случаев мы не знаем какое действие приведет нас в нужное состояние, поэтому добавим действие a в качестве второго параметра функции.\n",
        "\n",
        "To solve this problem, we define the value function V of state s as the value of the maximum cumulative reward, provided that we start in state s. Knowing such a function, we can solve the problem simply by passing each step to s with the maximum possible value. In most cases, we do not know which action will bring us to the desired state, so we will add action a as the second parameter of the function."
      ],
      "metadata": {
        "id": "U-69JrvHxrFL"
      }
    },
    {
      "cell_type": "markdown",
      "source": [
        "\\begin{align}\n",
        "V_\\pi(s) = E[\\sum_{t=0}^{∞}γ^{t}r_t|\\pi(s),s_0=s]\\\\\n",
        "Q_\\pi(s,a) = \\sum_{s'}T(s,a,s')(r(s,a,s')+\\gamma V_\\pi(s')) \n",
        "\\end{align}"
      ],
      "metadata": {
        "id": "WvA3t2S9zJNq"
      }
    },
    {
      "cell_type": "markdown",
      "source": [
        ",где T - Оператор эволюции системы, определяющий вероятность перехода $s' \\in \\mathcal{S}$ из состояния $s \\in \\mathcal{S}$ при выборе действия $a \\in \\mathcal{A}$: $s'\\gets p(s'|s,a)$)\n",
        "\n",
        ",where T is the system evolution operator that determines the probability of transition $s'\\in \\mathcal{S}$ from the state $s\\in \\mathcal{S}$ when choosing the action $a\\in \\mathcal{A}$: $s'\\gets p(s'|s,a)$)"
      ],
      "metadata": {
        "id": "YAOj-wKa0PnG"
      }
    },
    {
      "cell_type": "markdown",
      "source": [
        "Полученная функция называется Q-функцией. Она показывает, какую максимально возможную кумулятивную награду мы можем получить, совершив действие a в состоянии s\n",
        "\n",
        "The resulting function is called a Q-function. It shows what the maximum possible cumulative reward we can get by performing action a in state s"
      ],
      "metadata": {
        "id": "oThc0Dlax9tE"
      }
    },
    {
      "cell_type": "markdown",
      "source": [
        "На практике мы не знаем настоящую Q-функцию, но зато можем ее приблизить различными методами. Одним из таких методов является Deep Q Network (DQN). Его идея заключается в том, что мы для каждого из действий приближаем Q-функцию при помощи нейронной сети.\n",
        "In practice, we do not know the real Q-function, but we can approximate it by various methods. One of these methods is Deep Network (DDN). His idea is that for each of the actions we approximate the Q-function using a neural network."
      ],
      "metadata": {
        "id": "9y457yP7wzrs"
      }
    },
    {
      "cell_type": "code",
      "execution_count": 1,
      "metadata": {
        "id": "VKKBfC3KtlrI"
      },
      "outputs": [],
      "source": [
        "import gym\n",
        "import torch.nn as nn\n",
        "import torch\n",
        "import numpy as np\n",
        "import random\n",
        "import copy\n",
        "from torch import optim\n",
        "from torch.nn import functional as F"
      ]
    },
    {
      "cell_type": "code",
      "source": [
        "env = gym.make(\"MountainCar-v0\")"
      ],
      "metadata": {
        "colab": {
          "base_uri": "https://localhost:8080/"
        },
        "id": "t23pRpJFuM3T",
        "outputId": "96d30c5a-46df-47a3-f816-d398dba172da"
      },
      "execution_count": 2,
      "outputs": [
        {
          "output_type": "stream",
          "name": "stderr",
          "text": [
            "/usr/local/lib/python3.9/dist-packages/gym/core.py:317: DeprecationWarning: \u001b[33mWARN: Initializing wrapper in old step API which returns one bool instead of two. It is recommended to set `new_step_api=True` to use new step API. This will be the default behaviour in future.\u001b[0m\n",
            "  deprecation(\n",
            "/usr/local/lib/python3.9/dist-packages/gym/wrappers/step_api_compatibility.py:39: DeprecationWarning: \u001b[33mWARN: Initializing environment in old step API which returns one bool instead of two. It is recommended to set `new_step_api=True` to use new step API. This will be the default behaviour in future.\u001b[0m\n",
            "  deprecation(\n"
          ]
        }
      ]
    },
    {
      "cell_type": "code",
      "source": [
        "initial_pose = env.reset()[0]"
      ],
      "metadata": {
        "id": "eRVwzL06p5a6"
      },
      "execution_count": 24,
      "outputs": []
    },
    {
      "cell_type": "code",
      "source": [
        "device = torch.device(\"cuda:0\" if torch.cuda.is_available() else \"cpu\")\n",
        "\n",
        "def create_new_model():\n",
        "    model = nn.Sequential(\n",
        "        nn.Linear(2, 32),\n",
        "        nn.ReLU(),\n",
        "        nn.Linear(32, 32),\n",
        "        nn.ReLU(),\n",
        "        nn.Linear(32, 3)\n",
        "    )\n",
        "    target_model = copy.deepcopy(model)\n",
        "    \n",
        "    #Загружаем модель на устройство, определенное в самом начале (GPU или CPU)\n",
        "    #Loading the model to the device defined at the very beginning (GPU or CPU)\n",
        "    model.to(device)\n",
        "    target_model.to(device)\n",
        "    \n",
        "    #Сразу зададим оптимизатор, с помощью которого будем обновлять веса модели\n",
        "    #We will immediately set the optimizer with which we will update the weights of the model\n",
        "    optimizer = optim.Adam(model.parameters(), lr=0.00003)\n",
        "    \n",
        "    return model, target_model, optimizer"
      ],
      "metadata": {
        "id": "ST11ltvGp8Nl"
      },
      "execution_count": 25,
      "outputs": []
    },
    {
      "cell_type": "code",
      "source": [
        "gamma = 0.99\n",
        "def fit(batch, model, target_model, optimizer):\n",
        "    state, action, reward, next_state, done = batch\n",
        "    #Загружаем батч на выбранное ранее устройство\n",
        "    #Download the patch to the previously selected device\n",
        "    state = torch.tensor(np.array(state)).to(device).float()\n",
        "    next_state = torch.tensor(np.array(next_state)).to(device).float()\n",
        "    reward = torch.tensor(np.array(reward)).to(device).float()\n",
        "    action = torch.tensor(np.array(action)).to(device)\n",
        "    done = torch.tensor(np.array(done)).to(device)\n",
        "\n",
        "    # Считаем то, какие значения должна выдавать наша сеть\n",
        "    # We consider what values our network should give out\n",
        "    target_q = torch.zeros(reward.size()[0]).float().to(device)\n",
        "    with torch.no_grad():\n",
        "        # Выбираем максимальное из значений Q-function для следующего состояния\n",
        "        # Select the maximum of the Q-function values for the following state\n",
        "        target_q = target_model(next_state).max(1)[0].view(-1) \n",
        "        target_q[done] = 0\n",
        "    target_q = reward + target_q * gamma\n",
        "\n",
        "    # Текущее предсказание\n",
        "    # Current prediction\n",
        "    q = model(state).gather(1, action.unsqueeze(1))\n",
        "\n",
        "    loss = F.mse_loss(q, target_q.unsqueeze(1))\n",
        "\n",
        "    # Очищаем текущие градиенты внутри сети\n",
        "    # Clearing the current gradients inside the network\n",
        "    optimizer.zero_grad()\n",
        "    # Применяем обратное распространение  ошибки\n",
        "    # We apply the reverse propagation of the error\n",
        "    loss.backward()\n",
        "    # Ограничиваем значения градиента. Необходимо, чтобы обновления не были слишком большими\n",
        "    # Limiting the gradient values. It is necessary that the updates are not too large\n",
        "    for param in model.parameters():\n",
        "        param.grad.data.clamp_(-1, 1)\n",
        "    # Делаем шаг оптимизации\n",
        "    # Making an optimization step\n",
        "    optimizer.step()"
      ],
      "metadata": {
        "id": "LuurNrQCqAt8"
      },
      "execution_count": 26,
      "outputs": []
    },
    {
      "cell_type": "code",
      "source": [
        "def select_action(state, epsilon, model):\n",
        "    if random.random() < epsilon:\n",
        "        return random.randint(0, 2)\n",
        "    return (model(torch.tensor(state).to(device).float().unsqueeze(0))[0].max(0)[1]).item()"
      ],
      "metadata": {
        "id": "VPI2d4DsqE2M"
      },
      "execution_count": 27,
      "outputs": []
    },
    {
      "cell_type": "code",
      "source": [
        "class Memory:\n",
        "    def __init__(self, capacity):\n",
        "        self.capacity = capacity\n",
        "        self.memory = []\n",
        "        self.position = 0\n",
        "\n",
        "    def push(self, element):\n",
        "        \"\"\"Сохраняет элемент в циклический буфер\"\"\"\n",
        "        \"\"\"Saves the element to the cyclic buffer\"\"\"\n",
        "        if len(self.memory) < self.capacity:\n",
        "            self.memory.append(None)\n",
        "        self.memory[self.position] = element\n",
        "        self.position = (self.position + 1) % self.capacity\n",
        "\n",
        "    def sample(self, batch_size):\n",
        "        \"\"\"Возвращает случайную выборку указанного размера\"\"\"\n",
        "        \"\"\"Returns a random sample of the specified size\"\"\"\n",
        "        return list(zip(*random.sample(self.memory, batch_size)))\n",
        "    \n",
        "    def __len__(self):\n",
        "        return len(self.memory)"
      ],
      "metadata": {
        "id": "C2fUdBEyqH9R"
      },
      "execution_count": 28,
      "outputs": []
    },
    {
      "cell_type": "markdown",
      "source": [
        "На каждом шаге наш агент получает награду -1, и так происходит до тех пор, пока не завершится эпизод. Такая награда мотивирует агента завершить эпизод как можно быстрее, но в то же время не подсказывает ему как это сделать. Из-за этого единственный способ научиться решать задачу в такой постановке для агента — решить ее много раз, при помощи exploration.\n",
        "\n",
        "At each step, our agent receives a -1 reward, and this happens until the episode ends. Such a reward motivates the agent to complete the episode as quickly as possible, but at the same time does not tell him how to do it. Because of this, the only way for an agent to learn how to solve a problem in such a formulation is to solve it many times, using exploration."
      ],
      "metadata": {
        "id": "MA_RFcW839QS"
      }
    },
    {
      "cell_type": "markdown",
      "source": [
        "Мы можем устранить источник проблемы, модифицировав саму задачу, а именно изменив функцию награды, т.е. применив то, что называется reward shaping.\n",
        "\n",
        "We can eliminate the source of the problem by modifying the task itself, namely by changing the reward function, i.e. by applying what is called reward shaping."
      ],
      "metadata": {
        "id": "sPMjUMWK4A7m"
      }
    },
    {
      "cell_type": "markdown",
      "source": [
        "Интуитивно понятно, чтобы заехать на холм нужно разогнаться. Чем больше скорость, тем ближе агент к решению задачи. Можно сообщить ему об этом, например, добавив модуль скорости с некоторым коэффициентом к награде\n",
        "\n",
        "Intuitively, to drive up the hill, you need to accelerate. The higher the speed, the closer the agent is to solving the problem. You can inform him about this, for example, by adding a speed module with some coefficient to the reward"
      ],
      "metadata": {
        "id": "_J5iAiHK3qVb"
      }
    },
    {
      "cell_type": "code",
      "source": [
        "def get_reward(state): # функция определения наград # reward detection function\n",
        "\n",
        "    if state[0] >= 0.5:\n",
        "        return 100\n",
        "    if state[0] > -0.4:\n",
        "        return (1+state[1])\n",
        "    return 0"
      ],
      "metadata": {
        "id": "caugph3cqUvR"
      },
      "execution_count": 29,
      "outputs": []
    },
    {
      "cell_type": "code",
      "source": [
        "rewards_by_target_updates = []\n",
        "#Количество обновлений model между обновлениями target model\n",
        "#Number of model updates between target model updates\n",
        "target_update = 1000\n",
        "#Размер одного батча, который на вход принимает модель\n",
        "#The size of one batch that the model accepts as input\n",
        "batch_size = 128\n",
        "#Количество шагов среды\n",
        "#Number of environment steps\n",
        "max_steps = 100001\n",
        "#Границы коэффициента exploration\n",
        "#Limits of the exploration coefficient\n",
        "max_epsilon = 0.5\n",
        "min_epsilon = 0.1\n",
        "\n",
        "def train():\n",
        "      #Создаем модель и буфер\n",
        "      #Creating a model and buffer\n",
        "      memory = Memory(5000)\n",
        "      model, target_model, optimizer = create_new_model()\n",
        "      state = env.reset()\n",
        "\n",
        "      for step in range(max_steps):\n",
        "            #Делаем шаг в среде\n",
        "            #Taking a step in the environment\n",
        "            epsilon = max_epsilon - (max_epsilon - min_epsilon)* step / max_steps\n",
        "            action = select_action(state, epsilon, model)\n",
        "            new_state, reward, done, _ = env.step(action)\n",
        "            modified_reward = reward + get_reward(new_state)\n",
        "\n",
        "\n",
        "            #Запоминаем опыт и, если нужно, перезапускаем среду\n",
        "            #We remember the experience and, if necessary, restart the environment\n",
        "            memory.push((state, action, modified_reward, new_state, done))\n",
        "\n",
        "            if done:\n",
        "                  state = env.reset()\n",
        "                  done = False\n",
        "            else:\n",
        "                  state = new_state\n",
        "\n",
        "            #Градиентный спуск\n",
        "            #Gradient descent\n",
        "            if step > batch_size:\n",
        "                 fit(memory.sample(batch_size), model, target_model, optimizer)\n",
        "\n",
        "            if step % target_update == 0:\n",
        "                  target_model = copy.deepcopy(model)\n",
        "      \n",
        "                  #Exploitation\n",
        "                  state = env.reset()\n",
        "                  total_reward = 0\n",
        "                  while not done:\n",
        "                        action = select_action(state, 0, target_model)\n",
        "                        new_state, reward, done, _ = env.step(action)\n",
        "      \n",
        "                        modified_reward = reward + get_reward(new_state)\n",
        "\n",
        "                        total_reward += modified_reward\n",
        "\n",
        "                  done = False\n",
        "                  state = env.reset()\n",
        "                  rewards_by_target_updates.append(total_reward)\n",
        "                  print(total_reward)\n",
        "      return rewards_by_target_updates"
      ],
      "metadata": {
        "id": "KrN2RtAM3xxV"
      },
      "execution_count": 30,
      "outputs": []
    },
    {
      "cell_type": "code",
      "source": [
        "score = train()"
      ],
      "metadata": {
        "colab": {
          "base_uri": "https://localhost:8080/"
        },
        "id": "mrP-hneMqZmW",
        "outputId": "cf3f11b7-45f2-48aa-b6c0-abe159e542c4"
      },
      "execution_count": 31,
      "outputs": [
        {
          "output_type": "stream",
          "name": "stdout",
          "text": [
            "-200.0\n",
            "-200.0\n",
            "-86.71190104552079\n",
            "-59.965477248857496\n",
            "-200.0\n",
            "-200.0\n",
            "-200.0\n",
            "-200.0\n",
            "-200.0\n",
            "-85.7950806420049\n",
            "-200.0\n",
            "-200.0\n",
            "-200.0\n",
            "-85.76340266175976\n",
            "-85.80624984133101\n",
            "-76.93796484284485\n",
            "-200.0\n",
            "-200.0\n",
            "-85.79033088483266\n",
            "-200.0\n",
            "-200.0\n",
            "-200.0\n",
            "-84.82812977104913\n",
            "-200.0\n",
            "-85.78734718216447\n",
            "-86.74208153120708\n",
            "-200.0\n",
            "-84.87333331888658\n",
            "-85.80094686327811\n",
            "-83.82389510024223\n",
            "-200.0\n",
            "-84.78688273072476\n",
            "-84.86147036383045\n",
            "-200.0\n",
            "-200.0\n",
            "-200.0\n",
            "-200.0\n",
            "-200.0\n",
            "-200.0\n",
            "-80.92255672820647\n",
            "-200.0\n",
            "-200.0\n",
            "-200.0\n",
            "-86.71321891446132\n",
            "-200.0\n",
            "-200.0\n",
            "-86.78230926267133\n",
            "-83.8216380335216\n",
            "-83.83730625160388\n",
            "-85.77678069802641\n",
            "-200.0\n",
            "-85.76051984263177\n",
            "-200.0\n",
            "-200.0\n",
            "-78.92537715847584\n",
            "-84.85809844456526\n",
            "-200.0\n",
            "-200.0\n",
            "-200.0\n",
            "-200.0\n",
            "-200.0\n",
            "-78.92568373547965\n",
            "-85.7942154188786\n",
            "-200.0\n",
            "-85.75993608147837\n",
            "-83.8461866844591\n",
            "-200.0\n",
            "-85.75447691535373\n",
            "-200.0\n",
            "-82.89624050958082\n",
            "-84.85637529020096\n",
            "-62.964052231165624\n",
            "-86.71400515711866\n",
            "-64.96201982655293\n",
            "-82.89800850376196\n",
            "-63.965769828175326\n",
            "-84.86791110474587\n",
            "-76.93702780493459\n",
            "-86.74250917088102\n",
            "-85.78386673562636\n",
            "-84.85956900346355\n",
            "-83.82676821234054\n",
            "-73.95379753756242\n",
            "-84.86706708102247\n",
            "-86.71839192662446\n",
            "-73.94832726482127\n",
            "-46.97116474172617\n",
            "-83.8822123993832\n",
            "-85.79687056802868\n",
            "-84.86861738120206\n",
            "-86.78470393661337\n",
            "-87.73196500196354\n",
            "-86.73494346131338\n",
            "-83.89621421646007\n",
            "-83.8892771480314\n",
            "-83.89405067714688\n",
            "-85.75224596382031\n",
            "-200.0\n",
            "-84.82810528299888\n",
            "-82.8935856669923\n",
            "-200.0\n"
          ]
        }
      ]
    },
    {
      "cell_type": "code",
      "source": [
        "print(score)"
      ],
      "metadata": {
        "colab": {
          "base_uri": "https://localhost:8080/"
        },
        "id": "4FvMMq2KqbVs",
        "outputId": "707713de-8e7f-4fd2-e40c-57b348abdcd6"
      },
      "execution_count": 32,
      "outputs": [
        {
          "output_type": "stream",
          "name": "stdout",
          "text": [
            "[-200.0, -200.0, -86.71190104552079, -59.965477248857496, -200.0, -200.0, -200.0, -200.0, -200.0, -85.7950806420049, -200.0, -200.0, -200.0, -85.76340266175976, -85.80624984133101, -76.93796484284485, -200.0, -200.0, -85.79033088483266, -200.0, -200.0, -200.0, -84.82812977104913, -200.0, -85.78734718216447, -86.74208153120708, -200.0, -84.87333331888658, -85.80094686327811, -83.82389510024223, -200.0, -84.78688273072476, -84.86147036383045, -200.0, -200.0, -200.0, -200.0, -200.0, -200.0, -80.92255672820647, -200.0, -200.0, -200.0, -86.71321891446132, -200.0, -200.0, -86.78230926267133, -83.8216380335216, -83.83730625160388, -85.77678069802641, -200.0, -85.76051984263177, -200.0, -200.0, -78.92537715847584, -84.85809844456526, -200.0, -200.0, -200.0, -200.0, -200.0, -78.92568373547965, -85.7942154188786, -200.0, -85.75993608147837, -83.8461866844591, -200.0, -85.75447691535373, -200.0, -82.89624050958082, -84.85637529020096, -62.964052231165624, -86.71400515711866, -64.96201982655293, -82.89800850376196, -63.965769828175326, -84.86791110474587, -76.93702780493459, -86.74250917088102, -85.78386673562636, -84.85956900346355, -83.82676821234054, -73.95379753756242, -84.86706708102247, -86.71839192662446, -73.94832726482127, -46.97116474172617, -83.8822123993832, -85.79687056802868, -84.86861738120206, -86.78470393661337, -87.73196500196354, -86.73494346131338, -83.89621421646007, -83.8892771480314, -83.89405067714688, -85.75224596382031, -200.0, -84.82810528299888, -82.8935856669923, -200.0]\n"
          ]
        }
      ]
    },
    {
      "cell_type": "code",
      "source": [
        "from matplotlib import pyplot as plt\n",
        "\n",
        "plt.figure(figsize=(15,7))\n",
        "plt.ylabel(\"Trajectory Duration\",fontsize=12)\n",
        "plt.xlabel(\"Training Epochs\",fontsize=12)\n",
        "# plt.plot(score, color='gray' , linewidth=1)\n",
        "# plt.plot(avg_score, color='blue', linewidth=3)\n",
        "plt.plot(np.arange(len(score)),score)"
      ],
      "metadata": {
        "colab": {
          "base_uri": "https://localhost:8080/",
          "height": 466
        },
        "id": "VHdVmX4RqedV",
        "outputId": "81cdd1b2-96d5-4923-c7c0-ee6d3963422b"
      },
      "execution_count": 33,
      "outputs": [
        {
          "output_type": "execute_result",
          "data": {
            "text/plain": [
              "[<matplotlib.lines.Line2D at 0x7f074ab33a90>]"
            ]
          },
          "metadata": {},
          "execution_count": 33
        },
        {
          "output_type": "display_data",
          "data": {
            "text/plain": [
              "<Figure size 1080x504 with 1 Axes>"
            ],
            "image/png": "[encoded data removed]"
          },
          "metadata": {
            "needs_background": "light"
          }
        }
      ]
    },
    {
      "cell_type": "markdown",
      "source": [
        "В полученном графике, видно, что наш агент обучился, так как вышел за отметку -100, значит считаем задачу решенной\n",
        "\n",
        "In the resulting graph, it can be seen that our agent has trained, since he went beyond the -100 mark, so we consider the problem solved"
      ],
      "metadata": {
        "id": "5dpsxvalqrCE"
      }
    },
    {
      "cell_type": "code",
      "source": [],
      "metadata": {
        "id": "xB5PPrVsq13-"
      },
      "execution_count": null,
      "outputs": []
    }
  ]
}