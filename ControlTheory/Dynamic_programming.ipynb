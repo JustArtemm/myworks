{
  "cells": [
    {
      "cell_type": "markdown",
      "id": "26c1846c-d138-4a7d-9370-3d1055145dbe",
      "metadata": {
        "id": "26c1846c-d138-4a7d-9370-3d1055145dbe"
      },
      "source": [
        "# Условие задачи \n",
        "#Problem\n",
        "\n",
        "\\begin{gather}\n",
        "max J = - \\displaystyle\\sum_{t=t_0}^{t_1} u_t^{p_t} \\\\\n",
        "u_t \\geq 0, t = t_0,t_0+1,...,t_1 \\\\\n",
        "\\displaystyle\\sum_{t=t_0}^{t_1} u_t = c \\\\\n",
        "\\end{gather}\n",
        "где $p_{t_0},p_{t_0+1},...,p_{t_1}$ - фиксированные положительные постоянные.\\\n",
        "where $p_{t_0},p_{t_0+1},...,p_{t_1}$ are fixed positive constants.\n",
        "\\begin{gather}\n",
        "1. Решите\\ задачу\\ с\\ помощью\\ динамического\\ программирования. \\\\\n",
        "2. Решите\\ частную\\ задачу,\\ в\\  которой\\ t_0 = 0, t_1 = 2, p_{t_0} = 1, p_{t_0+1} = 2, p_{t_1} = 3, c = 100 \\\\\n",
        "3. Решите\\ общую\\ задачу\\ при\\ условии,\\ что\\ на\\ управляющие\\ параметры\\ наложены\\ следующие\\ условия:\\\\\n",
        "u_t \\geq 1, t = t_0,t_0+1,...,t_1 \\\\\n",
        "\\displaystyle\\prod_{t=t_0}^{t_1} u_t = c \\\\\n",
        "\\end{gather}\n",
        "\n",
        "\\begin{gather}\n",
        "1. Solve\\ the\\ problem\\ with\\ dynamic\\ programming. \\\\\n",
        "2. Solve\\ a\\ particular\\ problem\\ in\\ which\\ t_0 = 0, t_1 = 2, p_{t_0} = 1, p_{t_0+1}=2, p_{t_1} = 3, c = 100 \\\\\n",
        "3. Solve\\ the\\ general\\ problem\\ provided\\ that\\ the\\ control\\ parameters\\ are\\  imposed\\ the\\ following\\ conditions:\\\\\n",
        "u_t \\geq 1, t = t_0,t_0+1,...,t_1 \\\\\n",
        "\\displaystyle\\prod_{t=t_0}^{t_1} u_t = c \\\\\n",
        "\\end{gather}"
      ]
    },
    {
      "cell_type": "markdown",
      "id": "a32a4e48-e828-49ee-a093-57a54fd4f4fc",
      "metadata": {
        "id": "a32a4e48-e828-49ee-a093-57a54fd4f4fc"
      },
      "source": [
        "## Пункт 1:\n",
        "## Point 1:\n",
        "\\begin{gather}\n",
        "max J = - \\displaystyle\\sum_{t=t_0}^{t_1} u_t^{p_t} \\\\\n",
        "u_t \\geq 0, t = t_0,t_0+1,...,t_1 \\\\\n",
        "\\displaystyle\\sum_{t=t_0}^{t_1} u_t = c \\\\\n",
        "\\end{gather}\n",
        "где $p_{t_0},p_{t_0+1},...,p_{t_1}$ - фиксированные положительные постоянные.\\\n",
        "where $p_{t_0},p_{t_0+1},...,p_{t_1}$ are fixed positive constants.\n",
        "\n",
        "\\\n",
        "Пусть $p_i = 2$ , тогда задача принимает следующий вид:\\\n",
        "Let $p_i = 2$ , then the problem takes the following form:\n",
        "\n",
        "\\begin{gather}\n",
        "max J = - \\displaystyle\\sum_{t=t_0}^{t_1} u_t^2 \\\\\n",
        "u_t \\geq 0, t = t_0,t_0+1,...,t_1 \\\\\n",
        "\\displaystyle\\sum_{t=t_0}^{t_1} u_t = c \\\\\n",
        "\\end{gather}\n",
        "где $p_{t_0},p_{t_0+1},...,p_{t_1}$ - фиксированные положительные постоянные.\\\n",
        "where $p_{t_0},p_{t_0+1},...,p_{t_1}$ are fixed positive constants.\\\n",
        "\n",
        "\n",
        "Решим задачу методом динамического программирования, как это было показано на лекции:\\\n",
        "Let's solve the problem by the method of dynamic programming, as it was shown in the lecture:\n",
        "\\begin{gather}\n",
        "V_0(c) = max|_{u_{t1} = c} [-u_{t_1}^2] = - c^2 \\\\\n",
        "V_1(c) = max|_{0\\leq u_{t_1-1} \\leq c} [-u_{t_1-1}^2 + V_0(c-u_{t_1-1})] = \\\\\n",
        "= max|_{(...)} [-u_{t_1-1}^2 - (c-u_{t_1-1})^2] = \\\\\n",
        "= max|_{(...)}(-2 u_{t_1-1}^2 + 2cu_{t_1-1} - c^2) => u_{max} = \\frac{c}{2} = u_{t_1-1}\\\\\n",
        "\\\\\n",
        "Подставим\\ u_{t_1-1} \\ в V_1(c) \\\\\n",
        "Let's\\ substitute\\ u_{t_1-1} \\ in V_1(c)\\\\\n",
        "\\ => V_1(c) =- \\frac{c^2}{2} \\\\\n",
        "\\\\\n",
        "V_2(c) = max|_{0\\leq u_{t_1-2} \\leq c} [-u_{t_1-2}^2 + V_1(c-u_{t_1-2})] =\\\\\n",
        "= max|_{(...)} [-u_{t_1-2}^2 - \\frac{(c-u_{t_1-2})^2}{2}] = \\\\\n",
        "= max|_{(...)} [-u_{t_1-2}^2-\\frac{c^2}{2}+cu_{t_1-2}-\\frac{u_{t_1-2}}{2}] =>\\\\\n",
        "=> u_{max} = \\frac{-c}{-2*\\frac{3}{2}} = \\frac{c}{3} => V_2(c) = -\\frac{c^2}{9} - \\frac{c^2}{2} + \\frac{c^2}{3} - \\frac{c^2}{18} = -\\frac{c^2}{3}\\\\\n",
        "\\\\\n",
        "Общее\\ решение\\ будет\\ иметь\\ вид:\\\\\n",
        "The\\ general\\ solution\\ will\\ look\\ like:\\\\\n",
        " u_{t_0} = u_{t_0+1} = ... = u_{t_1} = \\frac{c}{(t_1-t_0)+1}\n",
        "\\end{gather}"
      ]
    },
    {
      "cell_type": "markdown",
      "id": "10a75bdf-1b78-49a5-995e-3ada6dd94515",
      "metadata": {
        "id": "10a75bdf-1b78-49a5-995e-3ada6dd94515"
      },
      "source": [
        "## Пункт 2:\n",
        "## Point 2:\n",
        "\\begin{gather}\n",
        "max J = - \\displaystyle\\sum_{t=t_0}^{t_1} u_t^{p_t} \\\\\n",
        "u_t \\geq 0, t = t_0,t_0+1,...,t_1 \\\\\n",
        "\\displaystyle\\sum_{t=t_0}^{t_1} u_t = c \\\\\n",
        "t_0 = 0, t_1 = 2, p_{t_0} = 1, p_{t_0+1} = 2, p_{t_1} = 3, c = 100\n",
        "\\end{gather}\n",
        "\n",
        "\\begin{gather}\n",
        "V_0(c) = max|_{u_{t1} = c} [-u_{t_1}^3] = - c^3 \\\\\n",
        "V_1(c) = max|_{0\\leq u_{t_1-1} \\leq c} [-u_{t_1-1}^2 + V_0(c-u_{t_1-1})] = \\\\\n",
        "= max|_{(...)} [-u_{t_1-1}^2 - c^3+u_{t_1-1}^3-3cu_{t_1-1}^2+3c^2u_{t_1-1}] => \\\\\n",
        "=> т.к. На\\ интервале\\ u = (0,c)\\ V_1\\ не\\ имеет\\ экстремума,\\ то\\ максимум\\ либо\\ минимум\\ достигается\\ на\\ конце\\: \\\\\n",
        "because\\ At\\ interval\\ u = (0,c)\\ V_1\\ does\\ not\\ have\\ an\\ extremum,\\ then\\  maximum\\ or\\ minimum\\ is\\ reached\\ at\\ the\\ end\\: \\\\\n",
        "V_1(c)|_{u_{t_1-1} = 0} = -c^3 \\\\\n",
        "V_1(c)|_{u_{t_1-1} = c} = -c^2 \\\\\n",
        "=> u_{t_1-1} = c \\\\\n",
        "V_2(c) = max|_{0\\leq u_{t_1-2} \\leq c} [-u_{t_1-2} + V_1(c-u_{t_1-2})] =\\\\\n",
        "V_2(c) = max|_{(...)} [-u_{t_1-2} - (c-u_{t_1-2})^2] =\\\\\n",
        "V_2(c) = max|_{(...)} [-u_{t_1-2} - c^2+2cu_{t_1-2}-u_{t_1-2}^2] \\\\\n",
        "т.к. экстремум\\ достигается\\ в\\ точке\\ u_{t_1-2}<0 => максимум\\ V_2(c) будет\\ в\\ точке\\ u_{t_1-2} = 0 => V_2(c) = -c^2 \\\\\n",
        "because\\ the\\ extremum\\ is\\ reached\\ at\\ point\\ u_{t_1-2}<0 => the\\ maximum\\ V_2(c)\\ will\\ be\\ at\\ point\\ u_{t_1-2} = 0 => V_2(c) = -c^2 \\\\\n",
        "=>\\\\\n",
        "=> На\\ первом\\ шаге\\ u = 0,\\ на\\ втором\\ u = c,\\ на\\ третьем\\ u = c.\\\\\n",
        "At\\ the\\ first\\ step\\ u = 0,\\ at\\ the\\ second\\ u = c,\\ at\\ the\\ third\\ u = c.\\\\\n",
        "\\end{gather}"
      ]
    },
    {
      "cell_type": "markdown",
      "id": "52817a11-d72d-4b72-a9c8-d980df2b5b6e",
      "metadata": {
        "id": "52817a11-d72d-4b72-a9c8-d980df2b5b6e"
      },
      "source": [
        "## Пункт 3:\n",
        "## Point 3:\n",
        "Пусть $p_i = 2$\\\n",
        "Let $p_i = 2$\n",
        "\\begin{gather}\n",
        "max J = - \\displaystyle\\sum_{t=t_0}^{t_1} u_t^{p_t} \\\\\n",
        "u_t \\geq 1, t = t_0,t_0+1,...,t_1 \\\\\n",
        "\\displaystyle\\prod_{t=t_0}^{t_1} u_t = c \\\\\n",
        "\\end{gather}\n",
        "где $p_{t_0},p_{t_0+1},...,p_{t_1}$ - фиксированные положительные постоянные. \\\n",
        "where $p_{t_0},p_{t_0+1},...,p_{t_1}$ are fixed positive constants.\n",
        "\n",
        "\\begin{gather}\n",
        "V_0(c) = max|_{u_{t1} = c} [-u_{t_1}^2] = - c^2 \\\\\n",
        "V_1(c) = max|_{0\\leq u_{t_1-1} \\leq c} [-u_{t_1-1}^2 + V_0(\\frac{c}{u_{t_1-1}})] = \\\\\n",
        "= max|_{(...)}\\left[-u_{t_1-1}^2 - \\left(\\frac{c}{u_{t_1-1}}\\right)^2\\right] = \\\\\n",
        "= max|_{(...)} \\left[-\\frac{u_{t_1-1}^4+c^2}{u_{t_1-1}^2}\\right]\\\\\n",
        "Найдем\\ u_{max}\\ через\\ взятие\\ производной\\ от\\ V_1(c)\\ по\\ u: \\\\\n",
        "Find\\ u_{max}\\ by\\ taking\\ the derivative\\ of\\ V_1(c)\\ by\\ u: \\\\\n",
        "\\frac{\\partial V_1}{\\partial u_{t_1-1}} = \\frac{2u_{t_1-1}c^2 - 2u_{t_1-1}^5}{u_{t_1-1}^4} = 0 =>\\\\\n",
        "=> 2c^2 = 2u_{t_1-1}^4 \\\\\n",
        "u_{t_1-1}^2 = c\\\\\n",
        "u_{t_1-1} = \\sqrt{c}\\\\\n",
        "\\\\\n",
        "V_1(c)|_{u_{t_1-1} = \\sqrt{c}} = -2c \\\\\n",
        "\\\\\n",
        "V_2(c) = max|_{0\\leq u_{t_1-2} \\leq c}\\left[-u_{t_1-2}^2 + V_1\\left(\\frac{c}{u_{t_1-2}}\\right)\\right] = \\\\\n",
        "= max|_{(...)}[-u_{t_1-2}^2-2\\frac{c}{u_{t_1-2}}] = \\\\\n",
        "= max|_{(...)}[-\\left(\\frac{u_{t_1-2}^3+2c}{u_{t_1-2}}\\right)]\\\\\n",
        "Найдем\\ u_{max}\\ через\\ взятие\\ производной\\ от\\ V_2(c)\\ по\\ u: \\\\\n",
        "Find\\ u_{max}\\ by\\ taking\\ the derivative\\ of\\ V_2(c)\\ by\\ u: \\\\\n",
        "\\frac{\\partial V_2}{\\partial u_{t_1-2}} = \\frac{2c - 2u_{t_1-2}^3}{u_{t_1-2}^2} = 0 =>\\\\\n",
        "=> 2c = 2u_{t_1-2}^3\\\\\n",
        "u = \\sqrt[3]{c}\\\\\n",
        "\\\\\n",
        "Тогда\\ общее\\ решение\\ будет\\ иметь\\ вид:\\\\\n",
        "Then\\ the\\ general\\ solution\\ will\\ have\\ the\\ form:\\\\\n",
        "u_{t_1-k} = \\sqrt[k+1]{c}\n",
        "\\end{gather}\n",
        "\\begin{gather}\n",
        "\\\\\n",
        "Докажем, что\\ \\displaystyle\\prod_{t=t_0}^{t_1} u_t = c \\\\\n",
        "Let's\\ prove\\ that\\ \\displaystyle\\prod_{t=t_0}^{t_1} u_t = c \\\\\n",
        "c^{1-\\frac{1}{2}}*c^{\\frac{1}{2}-\\frac{1}{3}}*...*c^{\\frac{1}{n-1}-\\frac{1}{n}} =\\\\\n",
        "=c^{1-\\frac{1}{n}}\\\\\n",
        "\\lim\\limits_{n\\to \\infty}c^{1-\\frac{1}{n}} = c\\\\\n",
        "\\end{gather}"
      ]
    },
    {
      "cell_type": "code",
      "execution_count": null,
      "id": "5651c833-62ba-471d-b5f1-6808643fe2a7",
      "metadata": {
        "id": "5651c833-62ba-471d-b5f1-6808643fe2a7"
      },
      "outputs": [],
      "source": []
    }
  ],
  "metadata": {
    "kernelspec": {
      "display_name": "Python 3 (ipykernel)",
      "language": "python",
      "name": "python3"
    },
    "language_info": {
      "codemirror_mode": {
        "name": "ipython",
        "version": 3
      },
      "file_extension": ".py",
      "mimetype": "text/x-python",
      "name": "python",
      "nbconvert_exporter": "python",
      "pygments_lexer": "ipython3",
      "version": "3.9.7"
    },
    "colab": {
      "provenance": []
    }
  },
  "nbformat": 4,
  "nbformat_minor": 5
}